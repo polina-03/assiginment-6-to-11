{
 "cells": [
  {
   "cell_type": "markdown",
   "metadata": {},
   "source": [
    "2.1. Problem Statement:Numpy\n",
    "Problem Statement 1:\n",
    "\n",
    "Write a function so that the columns of the output matrix are powers of\n",
    "the input vector.\n",
    "The order of the powers is determined by the increasing boolean argument. Specifically, when\n",
    "increasing is False, the i-th output column is the input vector raised element-wise to the power\n",
    "of N - i - 1.\n",
    "\n",
    "HINT: Such a matrix with a geometric progression in each row is named for Alexandre-\n",
    "Theophile Vandermonde."
   ]
  },
  {
   "cell_type": "code",
   "execution_count": 1,
   "metadata": {},
   "outputs": [],
   "source": [
    "import numpy as np\n",
    "import pandas as pd\n",
    "def vendorminde(lst):\n",
    "    VanderMtx= []\n",
    "    for num in lst:\n",
    "        for j in range(len(lst)):\n",
    "            VanderMtx.append(num**j)\n",
    "    Mtx= np.array(VanderMtx) #np.array.reshape(len(lst),lrn(lst))\n",
    "    return Mtx.reshape(len(lst),len(lst))\n",
    "                "
   ]
  },
  {
   "cell_type": "code",
   "execution_count": 2,
   "metadata": {},
   "outputs": [
    {
     "data": {
      "text/plain": [
       "array([[  1,   1,   1,   1,   1],\n",
       "       [  1,   2,   4,   8,  16],\n",
       "       [  1,   3,   9,  27,  81],\n",
       "       [  1,   4,  16,  64, 256],\n",
       "       [  1,   5,  25, 125, 625]])"
      ]
     },
     "execution_count": 2,
     "metadata": {},
     "output_type": "execute_result"
    }
   ],
   "source": [
    "lst=[]\n",
    "vendorminde([1,2,3,4,5])"
   ]
  },
  {
   "cell_type": "markdown",
   "metadata": {},
   "source": [
    "Problem Statement 2:\n",
    "\n",
    "Given a sequence of n values x1, x2, ..., xn and a window size k>0, the k-th moving average\n",
    "of the given sequence is defined as follows:\n",
    "\n",
    "The moving average sequence has n-k+1 elements as shown below.\n",
    "\n",
    "The moving averages with k=4 of a ten-value sequence (n=10) is shown below\n",
    "\n",
    "i 1 2 3 4 5 6 7 8 9 10\n",
    "===== == == == == == == == == == ==\n",
    "Input 10 20 30 40 50 60 70 80 90 100\n",
    "\n",
    "y1 25 = (10+20+30+40)/4\n",
    "\n",
    "y2 35 = (20+30+40+50)/4\n",
    "\n",
    "y3 45 = (30+40+50+60)/4\n",
    "\n",
    "y4 55 = (40+50+60+70)/4\n",
    "\n",
    "y5 65 = (50+60+70+80)/4\n",
    "\n",
    "y6 75 = (60+70+80+90)/4\n",
    "\n",
    "y7 85 = (70+80+90+100)/4\n",
    "\n",
    "Thus, the moving average sequence has n-k+1=10-4+1=7 values."
   ]
  },
  {
   "cell_type": "code",
   "execution_count": 7,
   "metadata": {},
   "outputs": [
    {
     "name": "stdin",
     "output_type": "stream",
     "text": [
      "please enter start range of list= 10\n",
      "please enter stop range of list= 110\n",
      "please enter step sixe of list= 10\n"
     ]
    },
    {
     "name": "stdout",
     "output_type": "stream",
     "text": [
      "y 1 = 25.0\n",
      "y 2 = 35.0\n",
      "y 3 = 45.0\n",
      "y 4 = 55.0\n",
      "y 5 = 65.0\n",
      "y 6 = 75.0\n",
      "y 7 = 85.0\n"
     ]
    }
   ],
   "source": [
    "a=int(input(\"please enter start range of list=\"))\n",
    "b=int(input(\"please enter stop range of list=\"))\n",
    "c=int(input(\"please enter step sixe of list=\"))\n",
    "inp=list(range(a,b,c))\n",
    "n=(len(inp))\n",
    "k=4\n",
    "mas=n-k+1\n",
    "for i in range(mas):\n",
    "    y=0\n",
    "    for j in range(k):\n",
    "        y=y+inp[i+j]\n",
    "    print(\"y\",i+1,\"=\",y/k)   "
   ]
  },
  {
   "cell_type": "markdown",
   "metadata": {},
   "source": [
    "Question: Write a function to find moving average in an array over a window:\n",
    "\n",
    "Test it over [3, 5, 7, 2, 8, 10, 11, 65, 72, 81, 99, 100, 150] and window of 3."
   ]
  },
  {
   "cell_type": "code",
   "execution_count": 8,
   "metadata": {},
   "outputs": [],
   "source": [
    "def moving_avg(arr,n):\n",
    "    inr=len(arr)-n+1\n",
    "    for i in range(inr):\n",
    "        y=0\n",
    "        for j in range(n):\n",
    "            y=y+arr[i+j]\n",
    "        print(y/n)    "
   ]
  },
  {
   "cell_type": "code",
   "execution_count": 9,
   "metadata": {},
   "outputs": [
    {
     "name": "stdout",
     "output_type": "stream",
     "text": [
      "5.0\n",
      "4.666666666666667\n",
      "5.666666666666667\n",
      "6.666666666666667\n",
      "9.666666666666666\n",
      "28.666666666666668\n",
      "49.333333333333336\n",
      "72.66666666666667\n",
      "84.0\n",
      "93.33333333333333\n",
      "116.33333333333333\n"
     ]
    }
   ],
   "source": [
    "moving_avg([3, 5, 7, 2, 8, 10, 11, 65, 72, 81, 99, 100, 150],3)"
   ]
  },
  {
   "cell_type": "markdown",
   "metadata": {},
   "source": [
    "2.2. Problem Statement: Pandas\n",
    "\n",
    "Problem Statement 1:\n",
    "\n",
    "1) How-to-count-distance-to-the-previous-zero\n",
    "For each value, count the difference of the distance from the previous zero (or the start\n",
    "of the Series, whichever is closer) and if there are no previous zeros, print the position\n",
    "Consider a DataFrame df where there is an integer column {'X'[7, 2, 0, 3, 4, 2, 5, 0, 3, 4]}\n",
    "The values should therefore be [1, 2, 0, 1, 2, 3, 4, 0, 1, 2]. Make this a new column 'Y'.\n",
    "import pandas as pd\n",
    "df = pd.DataFrame({'X': [7, 2, 0, 3, 4, 2, 5, 0, 3, 4]})"
   ]
  },
  {
   "cell_type": "code",
   "execution_count": 12,
   "metadata": {},
   "outputs": [],
   "source": [
    "import pandas as pd\n",
    "df=pd.DataFrame({'x': [7, 2, 0, 3, 4, 2, 5, 0, 3, 4]})"
   ]
  },
  {
   "cell_type": "code",
   "execution_count": 13,
   "metadata": {},
   "outputs": [
    {
     "name": "stdout",
     "output_type": "stream",
     "text": [
      "[1, 2, 0, 1, 2, 3, 4, 0, 1, 2]\n"
     ]
    }
   ],
   "source": [
    "x=[7, 2, 0, 3, 4, 2, 5, 0, 3, 4]\n",
    "y=[]\n",
    "a=0\n",
    "for i in x:\n",
    "    if i!=0:\n",
    "        y.append(a+1)\n",
    "        a=a+1\n",
    "    elif i==0:\n",
    "        y.append(0)\n",
    "        a=0\n",
    "print(y)        \n"
   ]
  },
  {
   "cell_type": "code",
   "execution_count": 14,
   "metadata": {},
   "outputs": [],
   "source": [
    "df[\"y\"]=y"
   ]
  },
  {
   "cell_type": "code",
   "execution_count": 15,
   "metadata": {},
   "outputs": [
    {
     "data": {
      "text/html": [
       "<div>\n",
       "<style scoped>\n",
       "    .dataframe tbody tr th:only-of-type {\n",
       "        vertical-align: middle;\n",
       "    }\n",
       "\n",
       "    .dataframe tbody tr th {\n",
       "        vertical-align: top;\n",
       "    }\n",
       "\n",
       "    .dataframe thead th {\n",
       "        text-align: right;\n",
       "    }\n",
       "</style>\n",
       "<table border=\"1\" class=\"dataframe\">\n",
       "  <thead>\n",
       "    <tr style=\"text-align: right;\">\n",
       "      <th></th>\n",
       "      <th>x</th>\n",
       "      <th>y</th>\n",
       "    </tr>\n",
       "  </thead>\n",
       "  <tbody>\n",
       "    <tr>\n",
       "      <td>0</td>\n",
       "      <td>7</td>\n",
       "      <td>1</td>\n",
       "    </tr>\n",
       "    <tr>\n",
       "      <td>1</td>\n",
       "      <td>2</td>\n",
       "      <td>2</td>\n",
       "    </tr>\n",
       "    <tr>\n",
       "      <td>2</td>\n",
       "      <td>0</td>\n",
       "      <td>0</td>\n",
       "    </tr>\n",
       "    <tr>\n",
       "      <td>3</td>\n",
       "      <td>3</td>\n",
       "      <td>1</td>\n",
       "    </tr>\n",
       "    <tr>\n",
       "      <td>4</td>\n",
       "      <td>4</td>\n",
       "      <td>2</td>\n",
       "    </tr>\n",
       "  </tbody>\n",
       "</table>\n",
       "</div>"
      ],
      "text/plain": [
       "   x  y\n",
       "0  7  1\n",
       "1  2  2\n",
       "2  0  0\n",
       "3  3  1\n",
       "4  4  2"
      ]
     },
     "execution_count": 15,
     "metadata": {},
     "output_type": "execute_result"
    }
   ],
   "source": [
    "df.head()"
   ]
  },
  {
   "cell_type": "markdown",
   "metadata": {},
   "source": [
    "2) Create a DatetimeIndex that contains each business day of 2015 and use it to index a\n",
    "Series of random numbers."
   ]
  },
  {
   "cell_type": "code",
   "execution_count": 15,
   "metadata": {},
   "outputs": [
    {
     "data": {
      "text/html": [
       "<div>\n",
       "<style scoped>\n",
       "    .dataframe tbody tr th:only-of-type {\n",
       "        vertical-align: middle;\n",
       "    }\n",
       "\n",
       "    .dataframe tbody tr th {\n",
       "        vertical-align: top;\n",
       "    }\n",
       "\n",
       "    .dataframe thead th {\n",
       "        text-align: right;\n",
       "    }\n",
       "</style>\n",
       "<table border=\"1\" class=\"dataframe\">\n",
       "  <thead>\n",
       "    <tr style=\"text-align: right;\">\n",
       "      <th></th>\n",
       "      <th>Date</th>\n",
       "      <th>random_index</th>\n",
       "      <th>month</th>\n",
       "      <th>day</th>\n",
       "    </tr>\n",
       "  </thead>\n",
       "  <tbody>\n",
       "    <tr>\n",
       "      <td>0</td>\n",
       "      <td>2015-01-01</td>\n",
       "      <td>67</td>\n",
       "      <td>1</td>\n",
       "      <td>Thursday</td>\n",
       "    </tr>\n",
       "    <tr>\n",
       "      <td>1</td>\n",
       "      <td>2015-01-02</td>\n",
       "      <td>43</td>\n",
       "      <td>2</td>\n",
       "      <td>Friday</td>\n",
       "    </tr>\n",
       "    <tr>\n",
       "      <td>2</td>\n",
       "      <td>2015-01-05</td>\n",
       "      <td>49</td>\n",
       "      <td>5</td>\n",
       "      <td>Monday</td>\n",
       "    </tr>\n",
       "    <tr>\n",
       "      <td>3</td>\n",
       "      <td>2015-01-06</td>\n",
       "      <td>47</td>\n",
       "      <td>6</td>\n",
       "      <td>Tuesday</td>\n",
       "    </tr>\n",
       "    <tr>\n",
       "      <td>4</td>\n",
       "      <td>2015-01-07</td>\n",
       "      <td>70</td>\n",
       "      <td>7</td>\n",
       "      <td>Wednesday</td>\n",
       "    </tr>\n",
       "  </tbody>\n",
       "</table>\n",
       "</div>"
      ],
      "text/plain": [
       "        Date  random_index  month        day\n",
       "0 2015-01-01            67      1   Thursday\n",
       "1 2015-01-02            43      2     Friday\n",
       "2 2015-01-05            49      5     Monday\n",
       "3 2015-01-06            47      6    Tuesday\n",
       "4 2015-01-07            70      7  Wednesday"
      ]
     },
     "execution_count": 15,
     "metadata": {},
     "output_type": "execute_result"
    }
   ],
   "source": [
    "import pandas as pd\n",
    "import numpy as np\n",
    "\n",
    "def create_calendar(start='2015-1-1', end='2015-12-31'):\n",
    "    random_numbers=np.random.randint(low=1,high=365,size=365)\n",
    "    df=pd.DataFrame({\"Date\":pd.bdate_range(start,end)})\n",
    "    lengthdf=len(df)\n",
    "    df[\"random_index\"]=np.random.randint(low=1,high=100,size=lengthdf)\n",
    "    df[\"month\"]=df.Date.dt.day\n",
    "    df[\"day\"]=df.Date.dt.weekday_name\n",
    "    return df\n",
    "create_calendar().head()"
   ]
  },
  {
   "cell_type": "markdown",
   "metadata": {},
   "source": [
    "3) Find the sum of the values in s for every Wednesday"
   ]
  },
  {
   "cell_type": "code",
   "execution_count": 16,
   "metadata": {},
   "outputs": [
    {
     "data": {
      "text/plain": [
       "2858"
      ]
     },
     "execution_count": 16,
     "metadata": {},
     "output_type": "execute_result"
    }
   ],
   "source": [
    "s=create_calendar()\n",
    "wednes=np.where(s['day']=='Wednesday')\n",
    "wednes_values=s.loc[wednes]\n",
    "all_wednesday_random_sum=wednes_values[\"random_index\"].sum()\n",
    "all_wednesday_random_sum"
   ]
  },
  {
   "cell_type": "markdown",
   "metadata": {},
   "source": [
    "4) Average For each calendar month"
   ]
  },
  {
   "cell_type": "code",
   "execution_count": 17,
   "metadata": {},
   "outputs": [
    {
     "data": {
      "text/plain": [
       "<bound method NDFrame.head of month\n",
       "1     54.9\n",
       "2     41.2\n",
       "3     44.0\n",
       "4     64.8\n",
       "5     60.8\n",
       "6     56.0\n",
       "7     62.4\n",
       "8     52.6\n",
       "9     43.4\n",
       "10    58.9\n",
       "11    39.1\n",
       "12    65.4\n",
       "13    34.1\n",
       "14    54.0\n",
       "15    26.1\n",
       "16    53.1\n",
       "17    47.2\n",
       "18    66.9\n",
       "19    59.0\n",
       "20    70.8\n",
       "21    28.0\n",
       "22    60.5\n",
       "23    58.7\n",
       "24    45.4\n",
       "25    66.6\n",
       "26    62.5\n",
       "27    47.8\n",
       "28    58.8\n",
       "29    64.4\n",
       "30    49.0\n",
       "31    48.2\n",
       "Name: random_index, dtype: float64>"
      ]
     },
     "execution_count": 17,
     "metadata": {},
     "output_type": "execute_result"
    }
   ],
   "source": [
    "s=create_calendar()\n",
    "each_month=s.groupby(by=s[\"month\"])\n",
    "each_months_sum=each_month.random_index\n",
    "monthly_average=each_months_sum.mean()\n",
    "np.round(monthly_average,decimals=1).head"
   ]
  },
  {
   "cell_type": "markdown",
   "metadata": {},
   "source": [
    "5) For each group of four consecutive calendar months in s, find the date on which the\n",
    "highest value occurred."
   ]
  },
  {
   "cell_type": "code",
   "execution_count": 21,
   "metadata": {},
   "outputs": [
    {
     "data": {
      "text/html": [
       "<div>\n",
       "<style scoped>\n",
       "    .dataframe tbody tr th:only-of-type {\n",
       "        vertical-align: middle;\n",
       "    }\n",
       "\n",
       "    .dataframe tbody tr th {\n",
       "        vertical-align: top;\n",
       "    }\n",
       "\n",
       "    .dataframe thead tr th {\n",
       "        text-align: left;\n",
       "    }\n",
       "\n",
       "    .dataframe thead tr:last-of-type th {\n",
       "        text-align: right;\n",
       "    }\n",
       "</style>\n",
       "<table border=\"1\" class=\"dataframe\">\n",
       "  <thead>\n",
       "    <tr>\n",
       "      <th></th>\n",
       "      <th colspan=\"2\" halign=\"left\">Date</th>\n",
       "      <th colspan=\"2\" halign=\"left\">random_index</th>\n",
       "      <th colspan=\"2\" halign=\"left\">month</th>\n",
       "    </tr>\n",
       "    <tr>\n",
       "      <th></th>\n",
       "      <th>max</th>\n",
       "      <th>idxmax</th>\n",
       "      <th>max</th>\n",
       "      <th>idxmax</th>\n",
       "      <th>max</th>\n",
       "      <th>idxmax</th>\n",
       "    </tr>\n",
       "    <tr>\n",
       "      <th>month</th>\n",
       "      <th></th>\n",
       "      <th></th>\n",
       "      <th></th>\n",
       "      <th></th>\n",
       "      <th></th>\n",
       "      <th></th>\n",
       "    </tr>\n",
       "  </thead>\n",
       "  <tbody>\n",
       "    <tr>\n",
       "      <td>0</td>\n",
       "      <td>2015-12-28</td>\n",
       "      <td>257</td>\n",
       "      <td>95</td>\n",
       "      <td>243</td>\n",
       "      <td>28</td>\n",
       "      <td>19</td>\n",
       "    </tr>\n",
       "    <tr>\n",
       "      <td>1</td>\n",
       "      <td>2015-12-29</td>\n",
       "      <td>258</td>\n",
       "      <td>99</td>\n",
       "      <td>166</td>\n",
       "      <td>29</td>\n",
       "      <td>20</td>\n",
       "    </tr>\n",
       "    <tr>\n",
       "      <td>2</td>\n",
       "      <td>2015-12-30</td>\n",
       "      <td>259</td>\n",
       "      <td>98</td>\n",
       "      <td>1</td>\n",
       "      <td>30</td>\n",
       "      <td>21</td>\n",
       "    </tr>\n",
       "    <tr>\n",
       "      <td>3</td>\n",
       "      <td>2015-12-31</td>\n",
       "      <td>260</td>\n",
       "      <td>99</td>\n",
       "      <td>151</td>\n",
       "      <td>31</td>\n",
       "      <td>63</td>\n",
       "    </tr>\n",
       "  </tbody>\n",
       "</table>\n",
       "</div>"
      ],
      "text/plain": [
       "            Date        random_index        month       \n",
       "             max idxmax          max idxmax   max idxmax\n",
       "month                                                   \n",
       "0     2015-12-28    257           95    243    28     19\n",
       "1     2015-12-29    258           99    166    29     20\n",
       "2     2015-12-30    259           98      1    30     21\n",
       "3     2015-12-31    260           99    151    31     63"
      ]
     },
     "execution_count": 21,
     "metadata": {},
     "output_type": "execute_result"
    }
   ],
   "source": [
    "s=create_calendar()\n",
    "d=s.groupby(s[\"month\"]%4).agg(['max','idxmax'])\n",
    "d"
   ]
  },
  {
   "cell_type": "markdown",
   "metadata": {},
   "source": [
    "Problem Statement 2:\n",
    "\n",
    "Read the dataset from the below link\n",
    "https://raw.githubusercontent.com/guipsamora/pandas_exercises/master/06_Stats/US_Baby_Names/US_Baby_Nam\n",
    "es_right.csv\n",
    "\n",
    "Questions:\n",
    "1) Delete unnamed columns"
   ]
  },
  {
   "cell_type": "code",
   "execution_count": 2,
   "metadata": {},
   "outputs": [],
   "source": [
    "import pandas as pd\n",
    "data=pd.read_csv(\"https://raw.githubusercontent.com/guipsamora/pandas_exercises/master/06_Stats/US_Baby_Names/US_Baby_Names_right.csv\")"
   ]
  },
  {
   "cell_type": "code",
   "execution_count": 3,
   "metadata": {},
   "outputs": [
    {
     "data": {
      "text/plain": [
       "<bound method NDFrame.head of               Id     Name  Year Gender State  Count\n",
       "0          11350     Emma  2004      F    AK     62\n",
       "1          11351  Madison  2004      F    AK     48\n",
       "2          11352   Hannah  2004      F    AK     46\n",
       "3          11353    Grace  2004      F    AK     44\n",
       "4          11354    Emily  2004      F    AK     41\n",
       "...          ...      ...   ...    ...   ...    ...\n",
       "1016390  5647422     Seth  2014      M    WY      5\n",
       "1016391  5647423  Spencer  2014      M    WY      5\n",
       "1016392  5647424     Tyce  2014      M    WY      5\n",
       "1016393  5647425   Victor  2014      M    WY      5\n",
       "1016394  5647426   Waylon  2014      M    WY      5\n",
       "\n",
       "[1016395 rows x 6 columns]>"
      ]
     },
     "execution_count": 3,
     "metadata": {},
     "output_type": "execute_result"
    }
   ],
   "source": [
    "data.drop([\"Unnamed: 0\"], axis=1, inplace=True)\n",
    "data.head"
   ]
  },
  {
   "cell_type": "markdown",
   "metadata": {},
   "source": [
    "2) Show the distribution of male and female"
   ]
  },
  {
   "cell_type": "code",
   "execution_count": 5,
   "metadata": {},
   "outputs": [
    {
     "data": {
      "text/plain": [
       "Gender\n",
       "F    558846\n",
       "M    457549\n",
       "Name: Count, dtype: int64"
      ]
     },
     "execution_count": 5,
     "metadata": {},
     "output_type": "execute_result"
    }
   ],
   "source": [
    "data.head(5)\n",
    "gender_distribution=data.groupby(by=data[\"Gender\"])[\"Count\"].count()\n",
    "gender_distribution"
   ]
  },
  {
   "cell_type": "markdown",
   "metadata": {},
   "source": [
    "3) Show the top 5 most preferred names"
   ]
  },
  {
   "cell_type": "code",
   "execution_count": 6,
   "metadata": {},
   "outputs": [
    {
     "data": {
      "text/plain": [
       "Riley     1112\n",
       "Avery     1080\n",
       "Jordan    1073\n",
       "Peyton    1064\n",
       "Hayden    1049\n",
       "Name: Name, dtype: int64"
      ]
     },
     "execution_count": 6,
     "metadata": {},
     "output_type": "execute_result"
    }
   ],
   "source": [
    "data[\"Name\"].value_counts().head(5)"
   ]
  },
  {
   "cell_type": "markdown",
   "metadata": {},
   "source": [
    "4) What is the median name occurrence in the dataset"
   ]
  },
  {
   "cell_type": "code",
   "execution_count": 7,
   "metadata": {},
   "outputs": [
    {
     "data": {
      "text/plain": [
       "'Elizabeth'"
      ]
     },
     "execution_count": 7,
     "metadata": {},
     "output_type": "execute_result"
    }
   ],
   "source": [
    "data.Name[data[\"Count\"].median()]"
   ]
  },
  {
   "cell_type": "markdown",
   "metadata": {},
   "source": [
    "5) Distribution of male and female born count by states"
   ]
  },
  {
   "cell_type": "code",
   "execution_count": 12,
   "metadata": {},
   "outputs": [
    {
     "data": {
      "text/plain": [
       "State  Gender\n",
       "AK     F          2404\n",
       "       M          2587\n",
       "AL     F          9878\n",
       "       M          8419\n",
       "AR     F          7171\n",
       "       M          6475\n",
       "AZ     F         14518\n",
       "       M         10820\n",
       "CA     F         45144\n",
       "       M         31637\n",
       "CO     F         11424\n",
       "       M          9183\n",
       "Name: Count, dtype: int64"
      ]
     },
     "execution_count": 12,
     "metadata": {},
     "output_type": "execute_result"
    }
   ],
   "source": [
    "born_count=data.groupby(['State','Gender'])['Count'].count()\n",
    "born_count.head(12)"
   ]
  },
  {
   "cell_type": "markdown",
   "metadata": {},
   "source": [
    "2.3. Problem Statement: Use Cases on Numpy and Pandas\n",
    "\n",
    "1.) Write a Python program which accepts a list named : randomList = ['a', 0, 2]. Use exception\n",
    "handling using try-catch which gives the output as:\n",
    "\n",
    "Output:\n",
    "\n",
    "1) If the List element is a alphabet or string, the output will be\n",
    "The entry is a\n",
    "Oops! <class 'ValueError'> occured.\n",
    "Next entry.\n",
    "\n",
    "2) If the List element is “0”,the output will be\n",
    "The entry is 0\n",
    "Oops! <class 'ZeroDivisionError'> occured.\n",
    "Next entry.\n",
    "\n",
    "3) If the List element is and integer except 0,then output will be:\n",
    "The entry is 2\n",
    "The reciprocal of 2 is 0.5 // reciprocal of an integer"
   ]
  },
  {
   "cell_type": "code",
   "execution_count": 26,
   "metadata": {},
   "outputs": [
    {
     "name": "stdout",
     "output_type": "stream",
     "text": [
      "The entry isa\n",
      "Oops!<class'ValueError'> occured\n",
      "__________________________________________________\n",
      "\n",
      "The entry is 0\n",
      "Oops!<class'Zero Division Error'> occured\n",
      "__________________________________________________\n",
      "\n",
      "The entry is  2\n",
      "Reciprocal of 2 is 0.5\n",
      "Next entry\n"
     ]
    }
   ],
   "source": [
    "randomlist=[\"a\",0,2]\n",
    "try:\n",
    "    for i in randomlist:\n",
    "        if str(i).isalpha()==True:\n",
    "            print(\"The entry is\"+i)\n",
    "            print(\"Oops!<class'ValueError'> occured\"+\"\\n\"+\"_\"*50+\"\\n\")\n",
    "                  \n",
    "        elif int(i)==0:\n",
    "            print(\"The entry is\",i)\n",
    "            print(\"Oops!<class'Zero Division Error'> occured\"+\"\\n\"+\"_\"*50+\"\\n\") \n",
    "                  \n",
    "        elif int(i)/2==True:\n",
    "            print(\"The entry is \",i)\n",
    "            print(\"Reciprocal of \"+ str(i)+\" is\",1/i)\n",
    "            break\n",
    "        else:\n",
    "             print(\"invalid\")\n",
    "finally:\n",
    "    print(\"Next entry\")              "
   ]
  },
  {
   "cell_type": "markdown",
   "metadata": {},
   "source": [
    "2) Array out of Bound Exception\n",
    "Write a Python program to give exception “Array Out of Bound” if the user wants to access the\n",
    "elements beyond the list size (use try and except)"
   ]
  },
  {
   "cell_type": "code",
   "execution_count": 27,
   "metadata": {},
   "outputs": [
    {
     "name": "stdout",
     "output_type": "stream",
     "text": [
      "Array out of Bond.\n"
     ]
    }
   ],
   "source": [
    "try:\n",
    "    lst=[2,4,6]\n",
    "    print(lst[3])\n",
    "except :\n",
    "    print(\"Array out of Bond.\")"
   ]
  },
  {
   "cell_type": "markdown",
   "metadata": {},
   "source": [
    "3) Write a python module script that contains fib2() method to calculate the Fibonacci series\n",
    "till 1000 and save it as fibo.py.\n",
    "Note : The module created as fibo.py has to be placed in lib folder\n",
    "For linux/ubuntu path = /home/anaconda/lib/python3\n",
    "For Windows path = C:\\Users\\Ajit\\Anaconda3\\Lib"
   ]
  },
  {
   "cell_type": "code",
   "execution_count": 35,
   "metadata": {},
   "outputs": [],
   "source": [
    "# import OS.path\n",
    "# save_path=' C:\\Users\\Ajit\\Anaconda3\\Lib'\n",
    "#def feb2():\n",
    "#    nterms = int(1000)\n",
    "#    n1, n2 = 0,1\n",
    "#    count = 0\n",
    "#    if nterms <= 0:\n",
    "#       print(\"Please enter a positive integer\")\n",
    "#    elif nterms == 1:\n",
    "#       print(\"Fibbonacci seqence upto\",nterms,\":\")\n",
    "#       print(n1)\n",
    "#    else:\n",
    "#       print(\"Fibonnaci sequence:\")\n",
    "#       while count < nterms:\n",
    "#            print(n1)\n",
    "#            nth = n1 + n2\n",
    "#            # update values\n",
    "#            n1 = n2\n",
    "#            n2 = nth\n",
    "#            count +=1\n",
    "#feb2()"
   ]
  },
  {
   "cell_type": "code",
   "execution_count": null,
   "metadata": {},
   "outputs": [],
   "source": [
    "import fibo\n",
    "print(feb2)"
   ]
  },
  {
   "cell_type": "markdown",
   "metadata": {},
   "source": [
    "4) Write a python module script that contains ispalindrome() method to calculate the input\n",
    "string as palindrome string or not and save it as palindrome.py."
   ]
  },
  {
   "cell_type": "code",
   "execution_count": 53,
   "metadata": {},
   "outputs": [],
   "source": [
    "# def ispalindrome(a) :\n",
    "#     if a[::-1]==a:\n",
    "#        return(\"String is pal indrome \")\n",
    "#     else:\n",
    "#       return(\"Strings is not pal indrome\")"
   ]
  },
  {
   "cell_type": "code",
   "execution_count": null,
   "metadata": {},
   "outputs": [],
   "source": [
    "import palindrome\n",
    "print(palindrome.ispalindrome(\"racecar\"))"
   ]
  },
  {
   "cell_type": "markdown",
   "metadata": {},
   "source": [
    "5) Write a program in Python with one class called Cipher. Within the constructor of this\n",
    "class, ask user for a string and store it. Use a static variable, key to store a randomly\n",
    "generated integer between 1 and 50 inclusive. Implement two methods, encrypt and\n",
    "decrypt within this class. Encrypt generates and prints a cipher text using the user-entered\n",
    "string and the key and ecrypt generates decrypted string from ciphertext. The cipher only\n",
    "encrypts alpha and numeric (A-Z, a-z, 0-9). All Symbols, such as - , ; %, remain unencrypted.\n",
    "The cipher text can have special characters. Use generator expression to filter out alpha and\n",
    "numeric characters of the input string and to generate cipher text. Create an instance of this\n",
    "class, encrypt and decrypt back the user entered string."
   ]
  },
  {
   "cell_type": "code",
   "execution_count": null,
   "metadata": {},
   "outputs": [],
   "source": [
    "import numpy as np\n",
    "class Cypher:\n",
    "    def__init__(self,text):\n",
    "        print(\"Original Text: \"+str(text))\n",
    "        self.text=text\n",
    "        self.key=np.randint(low=1,high=5,size=len(text))\n",
    "        self.encrypted_text=\"\"\n",
    "        self.decrypted_text=\"\"\n",
    "    def generate_cypher(self,string):\n",
    "        for char in string:\n",
    "            if char.isalnum():\n",
    "                yield char\n",
    "            else:\n",
    "                yield None\n",
    "              "
   ]
  },
  {
   "cell_type": "markdown",
   "metadata": {},
   "source": [
    "6) Get Data from the following link:\n",
    "\n",
    "http://files.grouplens.org/datasets/movielens/ml-20m.zip\n",
    "We will be using the following files for this exercise:\n",
    "ratings.csv : userId,movieId,rating, timestamp\n",
    "tags.csv : userId,movieId, tag, timestamp\n",
    "movies.csv : movieId, title, genres\n",
    "\n",
    "\n",
    "I. Read the dataset using pandas."
   ]
  },
  {
   "cell_type": "code",
   "execution_count": null,
   "metadata": {},
   "outputs": [],
   "source": [
    "import pandas as pd\n",
    "import os\n",
    "os.chdir(\"I:\\\")\n",
    "os.getcwd()\n",
    "ratings=pd.read_csv(\"ratings.csv\")\n",
    "tags=pd.read_csv(\"tags.csv\")\n",
    "movies=pd.read_csv(\"movies.csv\")"
   ]
  },
  {
   "cell_type": "markdown",
   "metadata": {},
   "source": [
    "II. Extract the first row from tags and print its type."
   ]
  },
  {
   "cell_type": "code",
   "execution_count": null,
   "metadata": {},
   "outputs": [],
   "source": [
    "print(tags.dtypes)\n",
    "tags.head(1)"
   ]
  },
  {
   "cell_type": "markdown",
   "metadata": {},
   "source": [
    "III. Extract row 0, 11, 2000 from tags DataFrame."
   ]
  },
  {
   "cell_type": "code",
   "execution_count": null,
   "metadata": {},
   "outputs": [],
   "source": [
    "tags.iloc[[0,11,2000]]"
   ]
  },
  {
   "cell_type": "markdown",
   "metadata": {},
   "source": [
    "IV. Print index, columns of the DataFrame."
   ]
  },
  {
   "cell_type": "code",
   "execution_count": null,
   "metadata": {},
   "outputs": [],
   "source": [
    "tags.head"
   ]
  },
  {
   "cell_type": "markdown",
   "metadata": {},
   "source": [
    "2.4. Problem Statement: Matplotlib\n",
    "    \n",
    "Matplotlib:\n",
    "This assignment is for visualization using matplotlib:\n",
    "    \n",
    "data to use:\n",
    "url=2.4. Problem Statement: Matplotlib\n",
    "Matplotlib:\n",
    "This assignment is for visualization using matplotlib:\n",
    "data to use:\n",
    "url=https://raw.githubusercontent.com/Geoyi/Cleaning-Titanic-Data/master/titanic_original.csv\n",
    "titanic = pd.read_csv(url)\n",
    "Charts to plot:"
   ]
  },
  {
   "cell_type": "code",
   "execution_count": 56,
   "metadata": {},
   "outputs": [],
   "source": [
    "titanic=pd.read_csv(\"https://raw.githubusercontent.com/Geoyi/Cleaning-Titanic-Data/master/titanic_original.csv\")"
   ]
  },
  {
   "cell_type": "markdown",
   "metadata": {},
   "source": [
    "1. Create a pie chart presenting the male/female proportion"
   ]
  },
  {
   "cell_type": "code",
   "execution_count": 60,
   "metadata": {},
   "outputs": [
    {
     "name": "stdout",
     "output_type": "stream",
     "text": [
      "843\n",
      "466\n"
     ]
    }
   ],
   "source": [
    "import matplotlib.pyplot as plt\n",
    "%matplotlib inline\n",
    "male=titanic.loc[titanic.sex==\"male\"]\n",
    "nmale=len(male)\n",
    "print(nmale)\n",
    "female=titanic.loc[titanic.sex==\"female\"]\n",
    "nfemale=len(female)\n",
    "print(nfemale)"
   ]
  },
  {
   "cell_type": "code",
   "execution_count": 67,
   "metadata": {},
   "outputs": [
    {
     "name": "stdout",
     "output_type": "stream",
     "text": [
      "64.40030557677616\n",
      "35.59969442322384\n"
     ]
    }
   ],
   "source": [
    "per_male=nmale/(nmale+nfemale)*100\n",
    "per_female=nfemale/(nmale+nfemale)*100\n",
    "print(per_male)\n",
    "print(per_female)"
   ]
  },
  {
   "cell_type": "code",
   "execution_count": 69,
   "metadata": {},
   "outputs": [
    {
     "data": {
      "text/plain": [
       "([<matplotlib.patches.Wedge at 0x2b06bddd088>,\n",
       "  <matplotlib.patches.Wedge at 0x2b06bddda88>],\n",
       " [Text(-0.764967886879411, 1.5739517565806296, 'Male Propertion'),\n",
       "  Text(0.7212555751437824, -1.48401158867578, 'Female Properstion')],\n",
       " [Text(-0.4371245067882348, 0.8994010037603595, '64.40%'),\n",
       "  Text(0.3934121318966085, -0.8094608665504253, '35.60%')])"
      ]
     },
     "execution_count": 69,
     "metadata": {},
     "output_type": "execute_result"
    },
    {
     "data": {
      "image/png": "[encoded data removed]",
      "text/plain": [
       "<Figure size 1080x360 with 1 Axes>"
      ]
     },
     "metadata": {},
     "output_type": "display_data"
    }
   ],
   "source": [
    "male_vs_female=[per_male,per_female]\n",
    "male_vs_female_lbls=[\"Male Propertion\",\"Female Properstion\"]\n",
    "plt.figure(figsize=(15,5))\n",
    "plt.pie(male_vs_female,labels=male_vs_female_lbls,shadow=True, autopct=\"%1.2f%%\",radius=1.5,explode=[.1,0])"
   ]
  },
  {
   "cell_type": "markdown",
   "metadata": {},
   "source": [
    "2. Create a scatterplot with the Fare paid and the Age, differ the plot color by gender"
   ]
  },
  {
   "cell_type": "code",
   "execution_count": 73,
   "metadata": {},
   "outputs": [
    {
     "ename": "AttributeError",
     "evalue": "'AxesSubplot' object has no attribute 'set_xlable'",
     "output_type": "error",
     "traceback": [
      "\u001b[1;31m---------------------------------------------------------------------------\u001b[0m",
      "\u001b[1;31mAttributeError\u001b[0m                            Traceback (most recent call last)",
      "\u001b[1;32m<ipython-input-73-f43612054421>\u001b[0m in \u001b[0;36m<module>\u001b[1;34m\u001b[0m\n\u001b[0;32m      5\u001b[0m \u001b[0maxis\u001b[0m\u001b[1;33m.\u001b[0m\u001b[0mscatter\u001b[0m\u001b[1;33m(\u001b[0m\u001b[0mtitanic\u001b[0m\u001b[1;33m[\u001b[0m\u001b[0mtitanic\u001b[0m\u001b[1;33m.\u001b[0m\u001b[0msex\u001b[0m\u001b[1;33m==\u001b[0m\u001b[1;34m\"female\"\u001b[0m\u001b[1;33m]\u001b[0m\u001b[1;33m[\u001b[0m\u001b[1;34m'age'\u001b[0m\u001b[1;33m]\u001b[0m\u001b[1;33m,\u001b[0m\u001b[0mtitanic\u001b[0m\u001b[1;33m[\u001b[0m\u001b[0mtitanic\u001b[0m\u001b[1;33m.\u001b[0m\u001b[0msex\u001b[0m\u001b[1;33m==\u001b[0m\u001b[1;34m'female'\u001b[0m\u001b[1;33m]\u001b[0m\u001b[1;33m[\u001b[0m\u001b[1;34m'fare'\u001b[0m\u001b[1;33m]\u001b[0m\u001b[1;33m,\u001b[0m\u001b[0mc\u001b[0m\u001b[1;33m=\u001b[0m\u001b[1;34m\"blue\"\u001b[0m\u001b[1;33m,\u001b[0m\u001b[0ms\u001b[0m\u001b[1;33m=\u001b[0m\u001b[1;36m50\u001b[0m\u001b[1;33m)\u001b[0m\u001b[1;33m\u001b[0m\u001b[1;33m\u001b[0m\u001b[0m\n\u001b[0;32m      6\u001b[0m \u001b[0maxis\u001b[0m\u001b[1;33m.\u001b[0m\u001b[0mset_title\u001b[0m\u001b[1;33m(\u001b[0m\u001b[1;34m\"scatterplot with the Fare paid and the Age\"\u001b[0m\u001b[1;33m)\u001b[0m\u001b[1;33m\u001b[0m\u001b[1;33m\u001b[0m\u001b[0m\n\u001b[1;32m----> 7\u001b[1;33m \u001b[0maxis\u001b[0m\u001b[1;33m.\u001b[0m\u001b[0mset_xlable\u001b[0m\u001b[1;33m(\u001b[0m\u001b[1;34m\"fare\"\u001b[0m\u001b[1;33m)\u001b[0m\u001b[1;33m\u001b[0m\u001b[1;33m\u001b[0m\u001b[0m\n\u001b[0m\u001b[0;32m      8\u001b[0m \u001b[0maxis\u001b[0m\u001b[1;33m.\u001b[0m\u001b[0mset_ylable\u001b[0m\u001b[1;33m(\u001b[0m\u001b[1;34m\"age\"\u001b[0m\u001b[1;33m)\u001b[0m\u001b[1;33m\u001b[0m\u001b[1;33m\u001b[0m\u001b[0m\n\u001b[0;32m      9\u001b[0m \u001b[0maxis\u001b[0m\u001b[1;33m.\u001b[0m\u001b[0mlegend\u001b[0m\u001b[1;33m(\u001b[0m\u001b[1;34m'Male'\u001b[0m\u001b[1;33m,\u001b[0m\u001b[1;34m'Female'\u001b[0m\u001b[1;33m)\u001b[0m\u001b[1;33m\u001b[0m\u001b[1;33m\u001b[0m\u001b[0m\n",
      "\u001b[1;31mAttributeError\u001b[0m: 'AxesSubplot' object has no attribute 'set_xlable'"
     ]
    },
    {
     "data": {
      "image/png": "[encoded data removed]",
      "text/plain": [
       "<Figure size 720x432 with 1 Axes>"
      ]
     },
     "metadata": {},
     "output_type": "display_data"
    }
   ],
   "source": [
    "plt.style.use('ggplot')\n",
    "plt.figure(figsize=(10,6))\n",
    "axis=plt.subplot()\n",
    "axis.scatter(titanic[titanic.sex==\"male\"]['age'],titanic[titanic.sex=='male']['fare'],c=\"orange\",s=50)\n",
    "axis.scatter(titanic[titanic.sex==\"female\"]['age'],titanic[titanic.sex=='female']['fare'],c=\"blue\",s=50)\n",
    "axis.set_title(\"scatterplot with the Fare paid and the Age\")\n",
    "axis.set_xlable(\"fare\")\n",
    "axis.set_ylable(\"age\")\n",
    "axis.legend('Male','Female')"
   ]
  },
  {
   "cell_type": "markdown",
   "metadata": {},
   "source": [
    "2.5. Problem Statement: Data Cleaning\n",
    "\n",
    "It happens all the time: someone gives you data containing malformed strings, Python, lists\n",
    "\n",
    "and missing data. How do you tidy it up so you can get on with the analysis?\n",
    "Take this monstrosity as the DataFrame to use in the following puzzles:\n",
    "df = pd.DataFrame({'From_To': ['LoNDon_paris', 'MAdrid_miLAN', 'londON_StockhOlm',\n",
    "'Budapest_PaRis', 'Brussels_londOn'],\n",
    "'FlightNumber': [10045, np.nan, 10065, np.nan, 10085],\n",
    "'RecentDelays': [[23, 47], [], [24, 43, 87], [13], [67, 32]],\n",
    "'Airline': ['KLM(!)', '<Air France> (12)', '(British Airways. )',\n",
    "'12. Air France', '\"Swiss Air\"']})\n",
    "\n",
    "1. Some values in the the FlightNumber column are missing. These numbers are meant to\n",
    "increase by 10 with each row so 10055 and 10075 need to be put in place. Fill in these missing\n",
    "numbers and make the column an integer column (instead of a float column)."
   ]
  },
  {
   "cell_type": "code",
   "execution_count": 51,
   "metadata": {},
   "outputs": [],
   "source": [
    "import numpy as np\n",
    "import pandas as pd\n",
    "flight=pd.DataFrame({'From_To': ['LoNDon_paris', 'MAdrid_miLAN', 'londON_StockhOlm','Budapest_PaRis', 'Brussels_londOn'],\n",
    "'FlightNumber': [10045, np.nan, 10065, np.nan, 10085],\n",
    "'RecentDelays': [[23, 47], [], [24, 43, 87], [13], [67, 32]],\n",
    "'Airline': ['KLM(!)', '<Air France> (12)', '(British Airways. )','12. Air France', '\"Swiss Air\"']})\n",
    "                     "
   ]
  },
  {
   "cell_type": "code",
   "execution_count": 52,
   "metadata": {},
   "outputs": [
    {
     "name": "stdout",
     "output_type": "stream",
     "text": [
      "From_To          object\n",
      "FlightNumber    float64\n",
      "RecentDelays     object\n",
      "Airline          object\n",
      "dtype: object\n"
     ]
    },
    {
     "data": {
      "text/html": [
       "<div>\n",
       "<style scoped>\n",
       "    .dataframe tbody tr th:only-of-type {\n",
       "        vertical-align: middle;\n",
       "    }\n",
       "\n",
       "    .dataframe tbody tr th {\n",
       "        vertical-align: top;\n",
       "    }\n",
       "\n",
       "    .dataframe thead th {\n",
       "        text-align: right;\n",
       "    }\n",
       "</style>\n",
       "<table border=\"1\" class=\"dataframe\">\n",
       "  <thead>\n",
       "    <tr style=\"text-align: right;\">\n",
       "      <th></th>\n",
       "      <th>From_To</th>\n",
       "      <th>FlightNumber</th>\n",
       "      <th>RecentDelays</th>\n",
       "      <th>Airline</th>\n",
       "    </tr>\n",
       "  </thead>\n",
       "  <tbody>\n",
       "    <tr>\n",
       "      <td>0</td>\n",
       "      <td>LoNDon_paris</td>\n",
       "      <td>10045.0</td>\n",
       "      <td>[23, 47]</td>\n",
       "      <td>KLM(!)</td>\n",
       "    </tr>\n",
       "    <tr>\n",
       "      <td>1</td>\n",
       "      <td>MAdrid_miLAN</td>\n",
       "      <td>NaN</td>\n",
       "      <td>[]</td>\n",
       "      <td>&lt;Air France&gt; (12)</td>\n",
       "    </tr>\n",
       "    <tr>\n",
       "      <td>2</td>\n",
       "      <td>londON_StockhOlm</td>\n",
       "      <td>10065.0</td>\n",
       "      <td>[24, 43, 87]</td>\n",
       "      <td>(British Airways. )</td>\n",
       "    </tr>\n",
       "    <tr>\n",
       "      <td>3</td>\n",
       "      <td>Budapest_PaRis</td>\n",
       "      <td>NaN</td>\n",
       "      <td>[13]</td>\n",
       "      <td>12. Air France</td>\n",
       "    </tr>\n",
       "    <tr>\n",
       "      <td>4</td>\n",
       "      <td>Brussels_londOn</td>\n",
       "      <td>10085.0</td>\n",
       "      <td>[67, 32]</td>\n",
       "      <td>\"Swiss Air\"</td>\n",
       "    </tr>\n",
       "  </tbody>\n",
       "</table>\n",
       "</div>"
      ],
      "text/plain": [
       "            From_To  FlightNumber  RecentDelays              Airline\n",
       "0      LoNDon_paris       10045.0      [23, 47]               KLM(!)\n",
       "1      MAdrid_miLAN           NaN            []    <Air France> (12)\n",
       "2  londON_StockhOlm       10065.0  [24, 43, 87]  (British Airways. )\n",
       "3    Budapest_PaRis           NaN          [13]       12. Air France\n",
       "4   Brussels_londOn       10085.0      [67, 32]          \"Swiss Air\""
      ]
     },
     "execution_count": 52,
     "metadata": {},
     "output_type": "execute_result"
    }
   ],
   "source": [
    "print(flight.dtypes)\n",
    "flight.head()"
   ]
  },
  {
   "cell_type": "code",
   "execution_count": null,
   "metadata": {},
   "outputs": [],
   "source": []
  }
 ],
 "metadata": {
  "kernelspec": {
   "display_name": "Python 3",
   "language": "python",
   "name": "python3"
  },
  "language_info": {
   "codemirror_mode": {
    "name": "ipython",
    "version": 3
   },
   "file_extension": ".py",
   "mimetype": "text/x-python",
   "name": "python",
   "nbconvert_exporter": "python",
   "pygments_lexer": "ipython3",
   "version": "3.7.4"
  }
 },
 "nbformat": 4,
 "nbformat_minor": 4
}
